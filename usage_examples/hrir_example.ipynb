{
  "cells": [
    {
      "cell_type": "markdown",
      "metadata": {},
      "source": [
        "# HRIR/HRTF Example Notebook\n",
        "This notebook demonstrates loading SOFA HRIR/HRTF data, detecting arrival peaks/troughs, and visualizing head-related impulse responses using the Peak_Finding_Toolbox."
      ]
    },
    {
      "cell_type": "markdown",
      "metadata": {},
      "source": [
        "---"
      ]
    },
    {
      "cell_type": "markdown",
      "metadata": {},
      "source": [
        "## 1. Setup and Imports"
      ]
    },
    {
      "cell_type": "code",
      "execution_count": null,
      "metadata": {},
      "outputs": [],
      "source": [
        "import os, sys\n",
        "from pathlib import Path\n",
        "\n",
        "repo_root = Path().resolve().parent\n",
        "if str(repo_root) not in sys.path:\n",
        "    sys.path.insert(0, str(repo_root))\n",
        "    \n",
        "%pip install -e ..\n",
        "    \n",
        "import numpy as np\n",
        "from toolbox.data_loader import load_hrir_from_sofa\n",
        "from toolbox.peak_finder import detect_peaks\n",
        "from toolbox.plotting import plot_hrir"
      ]
    },
    {
      "cell_type": "markdown",
      "metadata": {},
      "source": [
        "---"
      ]
    },
    {
      "cell_type": "markdown",
      "metadata": {},
      "source": [
        "## 2. Load SOFA HRIR Data"
      ]
    },
    {
      "cell_type": "code",
      "execution_count": null,
      "metadata": {},
      "outputs": [],
      "source": [
        "# Path to SOFA file and channel selection\n",
        "sofa_path = '../data/hrtf_data/sofa/hpir_SennheiserHD650_nh830.sofa'\n",
        "\n",
        "# Load left-ear impulse response\n",
        "hrir, fs = load_hrir_from_sofa(sofa_path, channel='left')\n",
        "\n",
        "# Time vector in milliseconds\n",
        "times_ms = np.arange(len(hrir)) / fs * 1000"
      ]
    },
    {
      "cell_type": "markdown",
      "metadata": {},
      "source": [
        "---"
      ]
    },
    {
      "cell_type": "markdown",
      "metadata": {},
      "source": [
        "## 3. Detect Peaks and Troughs"
      ]
    },
    {
      "cell_type": "code",
      "execution_count": null,
      "metadata": {},
      "outputs": [],
      "source": [
        "# Detect first 5 peaks (arrivals)\n",
        "peaks = detect_peaks(hrir, times_ms, n_peaks=5, base_sigma=1.0, mode='hrir')\n",
        "\n",
        "# Detect first 5 troughs by inverting signal\n",
        "troughs = detect_peaks(-hrir, times_ms, n_peaks=5, base_sigma=1.0, mode='hrir')\n",
        "\n",
        "# Display latencies\n",
        "print(\"Peak latencies (ms):\", np.round(times_ms[peaks], 2))\n",
        "print(\"Trough latencies (ms):\", np.round(times_ms[troughs], 2))"
      ]
    },
    {
      "cell_type": "markdown",
      "metadata": {},
      "source": [
        "---"
      ]
    },
    {
      "cell_type": "markdown",
      "metadata": {},
      "source": [
        "## 4. Visualization with `plot_hrir`"
      ]
    },
    {
      "cell_type": "code",
      "execution_count": null,
      "metadata": {},
      "outputs": [],
      "source": [
        "# Plot HRIR with annotated peaks and troughs\n",
        "output_path = plot_hrir(\n",
        "    times_ms,\n",
        "    hrir,\n",
        "    peaks,\n",
        "    troughs,\n",
        "    base='hpir_SennheiserHD650_nh830_2',\n",
        "    outdir='../results/example_results'\n",
        ")\n",
        "print(f\"HRIR plot saved to: {output_path}\")\n",
        "\n",
        "from IPython.display import Image, display\n",
        "display(Image(filename=output_path))"
      ]
    },
    {
      "cell_type": "markdown",
      "metadata": {},
      "source": [
        "---"
      ]
    },
    {
      "cell_type": "markdown",
      "metadata": {},
      "source": [
        "## 5. CLI Usage"
      ]
    },
    {
      "cell_type": "code",
      "execution_count": null,
      "metadata": {},
      "outputs": [],
      "source": [
        "# Example command line usage (Detect peaks/troughs in a SOFA file for the left channel interactively)\n",
        "\"\"\"\n",
        "python -m toolbox.main hrir \\\n",
        "    data/hrtf_data/sofa/hpir_SennheiserHD650_nh830.sofa \\\n",
        "    --channel left \\\n",
        "    --n_peaks 5 \\\n",
        "    --sigma 1.0 \\\n",
        "    --outdir results/example_results/\n",
        "\"\"\""
      ]
    }
  ],
  "metadata": {
    "kernelspec": {
      "display_name": "myenv",
      "language": "python",
      "name": "python3"
    },
    "language_info": {
      "codemirror_mode": {
        "name": "ipython",
        "version": 3
      },
      "file_extension": ".py",
      "mimetype": "text/x-python",
      "name": "python",
      "nbconvert_exporter": "python",
      "pygments_lexer": "ipython3",
      "version": "3.12.9"
    }
  },
  "nbformat": 4,
  "nbformat_minor": 5
}
